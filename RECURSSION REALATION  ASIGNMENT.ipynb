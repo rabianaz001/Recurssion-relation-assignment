{
 "cells": [
  {
   "cell_type": "markdown",
   "metadata": {},
   "source": [
    "1.Find the value of T(2) for the recurrence relation T(n) = 3T(n-1) + 12n, given that T(0)=5."
   ]
  },
  {
   "cell_type": "markdown",
   "metadata": {},
   "source": [
    "Given T(0) = 5 , we can find T(1) using the recuurence relation:\n",
    "    \n",
    "T(1) = 3T(0) + 12.1 = 3.5 + 12.1 = 15 + 12 = 27\n",
    "\n",
    "Now, we can use T(1) to find T(2):\n",
    "    \n",
    "T(2) = 3T(1) + 12.2 = 3.27 + 12.2 = 81 + 24 = 105\n",
    "\n",
    "So, the value of T(2) is 105 for the given recurrence relation with the \n",
    "initial condition T(0) = 5."
   ]
  },
  {
   "cell_type": "markdown",
   "metadata": {},
   "source": [
    "2. Given a recurrence relation, solve it using the substitution method:\n",
    "\n",
    "a. T(n) = T(n-1) + c\n",
    "\n",
    "b. T(n) = 2T(n/2) + n\n",
    "\n",
    "c. T(n) = 2T(n/2) + c\n",
    "\n",
    "d. T(n) = T(n/2) + c"
   ]
  },
  {
   "cell_type": "markdown",
   "metadata": {},
   "source": [
    "a. T(n) = T(n-1) + c\n",
    "\n",
    "Assume T(k) = T(k-1) + c for some k > 0. Now substitute n = k + 1\n",
    "\n",
    "        T(k+1) = T((k+1 )-1) + c \n",
    "                 = T(k) + c\n",
    "                 \n",
    "So, T(n) = T(n-1) + c satisfies the recurrence relation."
   ]
  },
  {
   "cell_type": "markdown",
   "metadata": {},
   "source": [
    "b. T(n) = 2T(n/2) + n\n",
    "\n",
    "Assume T(k)=2T(k/2)+k for some k>1  Now, substitute n = 2k:\n",
    "    \n",
    "    T(2k) = 2T(2k/2) + 2k\n",
    "          = 2T(k) + 2k\n",
    "        \n",
    "So, T(n) = 2T(n/2) + n satisfies the recurrence relation.\n"
   ]
  },
  {
   "cell_type": "markdown",
   "metadata": {},
   "source": [
    "c. T(n) = 2T(n/2) + c\n",
    "\n",
    "Assume T(k)= 2T(k/2) + c for some k>1 , now substitutes n = 2k:\n",
    "\n",
    "      T(2k) = 2T(2k/2) + c\n",
    "            = 2T(k) + c\n",
    "            \n",
    " so, T(n) = 2T(n/2) + c ,satisfies the recurrence relation"
   ]
  },
  {
   "cell_type": "markdown",
   "metadata": {},
   "source": [
    "d. T(n) = T(n/2) + c\n",
    "\n",
    "Assume T(k) = T(k/2) + c for some k > 1 . now substitutes n = 2k:\n",
    " \n",
    "                     T(2k) = T(2k/2) + c\n",
    "                           = T(k) + c \n",
    "                           \n",
    "So, T(n) = T(n/2) + c satisfies the recurrence relation."
   ]
  },
  {
   "cell_type": "markdown",
   "metadata": {},
   "source": [
    "3. Given a recurrence relation, solve it using the recursive tree approach:\n",
    "\n",
    "a. T(n) = 2T(n-1) +1\n",
    "\n",
    "b. T(n) = 2T(n/2) + n"
   ]
  },
  {
   "cell_type": "markdown",
   "metadata": {},
   "source": [
    "a. T(n) = 2T(n-1) +1\n",
    "\n",
    "                    T(n)\n",
    "                   /    \\\n",
    "             T(n-1)      T(n-1)\n",
    "             /   \\       /    \\\n",
    "       T(n-2) T(n-2) T(n-2) T(n-2)\n",
    "        ...   ...    ...    ...\n",
    "\n",
    "     \n",
    " Each level of the tree contributes a constant amount, 1. The tree has a height of n, and at each level, we have 2 branches. So, the total number of nodes in the tree is 2n.\n",
    " Therefore, the time complexity is O(2**n).\n"
   ]
  },
  {
   "cell_type": "markdown",
   "metadata": {},
   "source": [
    "b. T(n) = 2T(n/2) + n\n",
    "\n",
    "                    T(n)\n",
    "                   /    \\\n",
    "              T(n/2)     T(n/2)\n",
    "             /   \\       /    \\\n",
    "       T(n/4) T(n/4) T(n/4) T(n/4)\n",
    "        ...   ...    ...    ...\n",
    "        \n",
    "\n",
    "Each level contributes n at that level. The tree has a height of \n",
    "log2n and at each level, we have 2 branches. Therefore, the total number\n",
    "of nodes in the tree is n.The time complexity is O(nlogn).\n"
   ]
  },
  {
   "cell_type": "code",
   "execution_count": null,
   "metadata": {},
   "outputs": [],
   "source": []
  }
 ],
 "metadata": {
  "kernelspec": {
   "display_name": "Python 3",
   "language": "python",
   "name": "python3"
  },
  "language_info": {
   "codemirror_mode": {
    "name": "ipython",
    "version": 3
   },
   "file_extension": ".py",
   "mimetype": "text/x-python",
   "name": "python",
   "nbconvert_exporter": "python",
   "pygments_lexer": "ipython3",
   "version": "3.7.6"
  }
 },
 "nbformat": 4,
 "nbformat_minor": 4
}
